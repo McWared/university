{
 "cells": [
  {
   "cell_type": "markdown",
   "metadata": {},
   "source": [
    "Написати код, який виконує такі дії:\n",
    "1. Імпортувати модуль numpy під іменем np\n",
    "2. Створити цілі змінні n та m, що будуть задавати розміри майбутньої матриці.\n",
    "3. Створити порожню матрицю a цілих чисел, і заповнити її нульовими значеннями.\n",
    "4. Створити цілі зміні left_lim, right_lim які будуть задавати верхній та нижній поріг заповнення матриці\n",
    "5. Заповнити матрицю випадковими цілими числами в діапазоні з пункту 4 \n",
    "Для цього , з модуля random імпортувати функцію randint, яка повертає випадкове ціле в заданому діапазоні, наприклад: randint(3, 5) поверне ціле від 3 до 5 включно.\n",
    "6.У циклі обійти всі елементи матриці та встановити значення. Має бути два цикли: зовнішній цикл по рядках, внутрішній по стовпчиках (чи навпаки).\n",
    "7.  Вивести отриману матрицю\n",
    "*8. Створити функцію, яка на вхід отримує матрицю, та для кожного її елементу ставить у відповідність квадрат його величини. Реалізувати функцію за допомогою проходу по всім елементам послідовності, а також створити ще одну функцію з таким самим результатом, але за допомогою вбудованих операцій над матрицями( додавання, множення або інші)\n",
    "*9. Викликати обидві функції(пункт 8) на однакових даних, та переконатись що результат ідентичний."
   ]
  },
  {
   "cell_type": "code",
   "execution_count": 35,
   "metadata": {},
   "outputs": [],
   "source": [
    "import numpy as np\n",
    "from random import randint"
   ]
  },
  {
   "cell_type": "code",
   "execution_count": 36,
   "metadata": {},
   "outputs": [],
   "source": [
    "n = 3\n",
    "m = 3"
   ]
  },
  {
   "cell_type": "code",
   "execution_count": 37,
   "metadata": {},
   "outputs": [
    {
     "name": "stdout",
     "output_type": "stream",
     "text": [
      "[[0 0 0]\n",
      " [0 0 0]\n",
      " [0 0 0]]\n",
      "int64\n"
     ]
    }
   ],
   "source": [
    "a = np.zeros((n,m),dtype=int)\n",
    "print(a)\n",
    "print(a.dtype)"
   ]
  },
  {
   "cell_type": "code",
   "execution_count": 38,
   "metadata": {},
   "outputs": [],
   "source": [
    "left_lim = 0\n",
    "right_lim = 20"
   ]
  },
  {
   "cell_type": "code",
   "execution_count": 39,
   "metadata": {},
   "outputs": [
    {
     "name": "stdout",
     "output_type": "stream",
     "text": [
      "[[20 16 16]\n",
      " [11 14 11]\n",
      " [ 0  6 19]]\n"
     ]
    }
   ],
   "source": [
    "for i in range(len(a)):\n",
    "    for j in range(len(a[i])):\n",
    "        a[i,j] = randint(left_lim, right_lim)\n",
    "print(a)"
   ]
  },
  {
   "cell_type": "code",
   "execution_count": 40,
   "metadata": {},
   "outputs": [
    {
     "name": "stdout",
     "output_type": "stream",
     "text": [
      "[[400 256 256]\n",
      " [121 196 121]\n",
      " [  0  36 361]]\n",
      "[[400 256 256]\n",
      " [121 196 121]\n",
      " [  0  36 361]]\n"
     ]
    }
   ],
   "source": [
    "def matSqured(mat):\n",
    "    c = mat.copy()\n",
    "    for i in range(len(c)):\n",
    "        for j in range(len(c[i])):\n",
    "            c[i,j] **= 2\n",
    "    return c\n",
    "\n",
    "def matSqured2(mat):\n",
    "    s = mat.copy()\n",
    "    return s*s\n",
    "print(matSqured(a))\n",
    "print(matSqured2(a))"
   ]
  }
 ],
 "metadata": {
  "kernelspec": {
   "display_name": "Python 3",
   "language": "python",
   "name": "python3"
  },
  "language_info": {
   "codemirror_mode": {
    "name": "ipython",
    "version": 3
   },
   "file_extension": ".py",
   "mimetype": "text/x-python",
   "name": "python",
   "nbconvert_exporter": "python",
   "pygments_lexer": "ipython3",
   "version": "3.11.7"
  }
 },
 "nbformat": 4,
 "nbformat_minor": 2
}
