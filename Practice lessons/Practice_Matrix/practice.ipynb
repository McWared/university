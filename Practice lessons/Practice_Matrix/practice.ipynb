{
 "cells": [
  {
   "cell_type": "code",
   "execution_count": null,
   "metadata": {},
   "outputs": [],
   "source": [
    "import numpy as np\n",
    "import math\n",
    "\n",
    "def binomial(i, j):\n",
    "    res = (math.factorial(i)/(math.factorial(j) * math.factorial(i - j))) * ((-1)**j)\n",
    "    return res\n",
    "\n",
    "def matrix(n):\n",
    "    mat = np.zeros((n+1, n+1), dtype=int)\n",
    "    for i in range(n+1):\n",
    "        for j in range(n+1):\n",
    "            if i >= j:\n",
    "                mat[i, j] = binomial(i, j)\n",
    "    return mat"
   ]
  },
  {
   "cell_type": "code",
   "execution_count": null,
   "metadata": {},
   "outputs": [],
   "source": [
    "import random\n",
    "a, b=2, 3\n",
    "mat=np.zeros((a, b))\n",
    "for i in range(a):\n",
    "    for j in range(b):\n",
    "        mat[i, j]=random.randint(-10, 11)\n",
    "print(mat)\n",
    "def indexC(mat, i, j):\n",
    "    rows, cols=mat.shape\n",
    "    cind=i*cols+j\n",
    "    \n",
    "    return cind\n",
    "print(mat[1, 2])\n",
    "mat2=mat.flatten()[indexC(mat, 1, 2)]\n",
    "print(mat2)\n"
   ]
  },
  {
   "cell_type": "markdown",
   "metadata": {},
   "source": [
    "Створити об’єкт-множину зі значенням {2, 7}, запам’ятати її у змінній a.\n",
    "Перевірити, чи містить множина a значення 5 як елемент.\n",
    "Створити об’єкт, значенням якого є порожня множина; запам’ятати її у змінній b.\n",
    "До множини b додати елемент 5.\n",
    "Знайти кількості елементів множин a та b.\n",
    "Перевірити, чи перетинаються множини a та b.\n",
    "Перевірити, чи є b підмножиною множини a.\n",
    "Для множин a та b знайти їх перетин, об’єднання, різницю та симетричну різницю.\n",
    "До множини b додати множину a.\n",
    "Знайти кількість елементів множини b.\n",
    "З множини b вилучити елемент 7."
   ]
  },
  {
   "cell_type": "code",
   "execution_count": null,
   "metadata": {},
   "outputs": [],
   "source": [
    "a = {2, 7}\n",
    "b = set()\n",
    "b.add(5)\n",
    "print(a)\n",
    "print(5 in a)\n",
    "print(b)\n",
    "print(len(a|b))"
   ]
  },
  {
   "cell_type": "markdown",
   "metadata": {},
   "source": [
    "Задано множини a та b, що складаються з цілих чисел. Знайти множину, що складається з тих і тільки\n",
    "тих елементів множини a, що не діляться на жодне число з множини b. Розв’язок оформити у вигляді\n",
    "функції (але тіло функції має складатись рівно з однієї інструкції return)."
   ]
  },
  {
   "cell_type": "code",
   "execution_count": 46,
   "metadata": {},
   "outputs": [
    {
     "name": "stdout",
     "output_type": "stream",
     "text": [
      "{13, 23}\n"
     ]
    }
   ],
   "source": [
    "a = {2,3,6,8,13,23}\n",
    "b = {2,3}\n",
    "\n",
    "def f(a, b):\n",
    "    res = set()\n",
    "    for elA in a:\n",
    "        flag = True\n",
    "        for elB in b:\n",
    "            if elA % elB == 0:\n",
    "                flag = False\n",
    "        if flag:\n",
    "            res.add(elA)\n",
    "    return res\n",
    "print(f(a, b))"
   ]
  }
 ],
 "metadata": {
  "kernelspec": {
   "display_name": "Python 3",
   "language": "python",
   "name": "python3"
  },
  "language_info": {
   "codemirror_mode": {
    "name": "ipython",
    "version": 3
   },
   "file_extension": ".py",
   "mimetype": "text/x-python",
   "name": "python",
   "nbconvert_exporter": "python",
   "pygments_lexer": "ipython3",
   "version": "3.12.2"
  }
 },
 "nbformat": 4,
 "nbformat_minor": 2
}
