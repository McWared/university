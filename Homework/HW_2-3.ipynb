{
 "cells": [
  {
   "cell_type": "markdown",
   "metadata": {},
   "source": [
    "26. Написати функцію, яка за послідовністю чисел x0, x1, ..., xn-1 обчислює таку величину:\n",
    "xn-1(xn-1 + xn-2)(xn-1 + xn-2 + xn-3)...(xn-1 +... + x0)."
   ]
  },
  {
   "cell_type": "code",
   "execution_count": null,
   "metadata": {},
   "outputs": [],
   "source": [
    "def cumulative_product(seq):\n",
    "    result = 1\n",
    "    sum = 0\n",
    "\n",
    "    for num in reversed(seq):\n",
    "        sum += num\n",
    "        result *= sum\n",
    "        \n",
    "    return result\n",
    "\n",
    "# Приклад використання:\n",
    "sequence = [2, 2, 3]\n",
    "result = cumulative_product(sequence)\n",
    "print(result)\n"
   ]
  },
  {
   "cell_type": "markdown",
   "metadata": {},
   "source": [
    "27. Написати функцію, яка утворює новий список і заповнює його послідовними біномними\n",
    "коефіцієнтами C (k=0,1,..,n)."
   ]
  },
  {
   "cell_type": "code",
   "execution_count": 16,
   "metadata": {},
   "outputs": [
    {
     "name": "stdout",
     "output_type": "stream",
     "text": [
      "[1, 5, 10, 10, 5, 1]\n"
     ]
    }
   ],
   "source": [
    "import math as m\n",
    "def binoms_list(n):\n",
    "    binoms_list_result = []\n",
    "\n",
    "    for k in range(n+1):\n",
    "        binoms_list_result.append(m.comb(n, k))\n",
    "\n",
    "    return binoms_list_result\n",
    "\n",
    "result = binoms_list(5)\n",
    "print(result)"
   ]
  },
  {
   "cell_type": "markdown",
   "metadata": {},
   "source": [
    "29. Написати функцію, що перевіряє чи є послідовність:\n",
    "а) неспадною;\n",
    "б) зростаючою;\n",
    "в) монотонною."
   ]
  },
  {
   "cell_type": "code",
   "execution_count": null,
   "metadata": {},
   "outputs": [],
   "source": [
    "def monoton_check_zrost(a: list) -> str:\n",
    "\n",
    "    for i in range(len(a) - 1):\n",
    "        if a[i] >= a[i+1]:\n",
    "            return \"Не є зростаючою\"\n",
    "    return 'Є зростаючою'\n",
    "\n",
    "def monoton_check_nespad(a: list) -> str:\n",
    "\n",
    "    for i in range(len(a) - 1):\n",
    "        if a[i] > a[i+1]:\n",
    "            return \"Не є неспадною\"\n",
    "    return 'Є неспадною'\n",
    "\n",
    "def monoton_check(a: list) -> str:\n",
    "    increase = all(sequence[i] <= sequence[i + 1] for i in range(len(sequence) - 1))\n",
    "    decrease = all(sequence[i] >= sequence[i + 1] for i in range(len(sequence) - 1))\n",
    "    return increase or decrease"
   ]
  },
  {
   "cell_type": "markdown",
   "metadata": {},
   "source": [
    "Рядок містить десяткові записи цілих чисел, відокремлені комами, також можуть зустрічатись білі\n",
    "символи. Побудувати відповідний список цілих."
   ]
  },
  {
   "cell_type": "code",
   "execution_count": 22,
   "metadata": {},
   "outputs": [
    {
     "name": "stdout",
     "output_type": "stream",
     "text": [
      "['10', '  5', '3', '    18']\n",
      "[10, 5, 3, 18]\n"
     ]
    }
   ],
   "source": [
    "def func(s: str) -> list:\n",
    "    prom = s.split(',')\n",
    "    print(prom)\n",
    "    result = []\n",
    "\n",
    "    for i in prom:\n",
    "        result.append(int(i.strip()))\n",
    "    return result\n",
    "\n",
    "res = func('10,  5,3,    18')\n",
    "print(res)"
   ]
  },
  {
   "cell_type": "markdown",
   "metadata": {},
   "source": [
    "40. За рядком перевірити, чи є він паліндромом."
   ]
  },
  {
   "cell_type": "code",
   "execution_count": 23,
   "metadata": {},
   "outputs": [
    {
     "name": "stdout",
     "output_type": "stream",
     "text": [
      "True\n"
     ]
    }
   ],
   "source": [
    "def isPalindrome(s: str) -> bool:\n",
    "    return s == s[::-1]\n",
    "\n",
    "result = isPalindrome('aba')\n",
    "print(result)"
   ]
  }
 ],
 "metadata": {
  "kernelspec": {
   "display_name": "Python 3",
   "language": "python",
   "name": "python3"
  },
  "language_info": {
   "codemirror_mode": {
    "name": "ipython",
    "version": 3
   },
   "file_extension": ".py",
   "mimetype": "text/x-python",
   "name": "python",
   "nbconvert_exporter": "python",
   "pygments_lexer": "ipython3",
   "version": "3.11.8"
  }
 },
 "nbformat": 4,
 "nbformat_minor": 2
}
