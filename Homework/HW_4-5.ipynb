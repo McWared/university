{
 "cells": [
  {
   "cell_type": "markdown",
   "metadata": {},
   "source": [
    "Побудувати матрицю, складену біномними коефіцієнтами, та знайти обернену. Чи є матриця оберненою сама до себе?"
   ]
  },
  {
   "cell_type": "code",
   "execution_count": null,
   "metadata": {},
   "outputs": [],
   "source": [
    "import numpy as np\n",
    "import math as mt\n",
    "\n",
    "def matrix(n):\n",
    "    mat = np.zeros((n, n), dtype=int)\n",
    "    for i in range(n):\n",
    "        for j in range(n):\n",
    "            if i >= j:\n",
    "                mat[i, j] = mt.comb(i, j) * ((-1)**j)\n",
    "    print(f'Матриця:\\n{mat}')\n",
    "    print(f'Обернена матриця:\\n{mat}')\n",
    "matrix(5)"
   ]
  },
  {
   "cell_type": "markdown",
   "metadata": {},
   "source": [
    "7. Написати функцію обчислення лінійного індексу елемента багатовимірного масиву за його\n",
    "багатовимірним індексом у багатовимірному масиві та розмірами у випадку використання F-порядку."
   ]
  },
  {
   "cell_type": "code",
   "execution_count": null,
   "metadata": {},
   "outputs": [],
   "source": [
    "def indexC(mat, i, j):\n",
    "    cols=mat.shape\n",
    "    cind=i*cols+j\n",
    "    \n",
    "    return cind"
   ]
  },
  {
   "cell_type": "markdown",
   "metadata": {},
   "source": [
    "17. Побудувати матрицю випадкових дійсних чисел. Для отриманої матриці знайти:\n",
    "а) середнє арифметичне;\n",
    "б) найбільше значення;\n",
    "в) медіану.\n",
    "Наведені статистики знайти:\n",
    "1) для матриці в цілому;\n",
    "2) для кожного стовпця матриці;\n",
    "3) для кожного рядка."
   ]
  },
  {
   "cell_type": "code",
   "execution_count": null,
   "metadata": {},
   "outputs": [],
   "source": [
    "import random\n",
    "import numpy as np\n",
    "\n",
    "mat = np.zeros((5, 5))\n",
    "for i in range(5):\n",
    "    for j in range(5):\n",
    "        mat[i, j] = random.random()\n",
    "print(mat)\n",
    "print(f'Max val: {mat.max()}')\n",
    "print(f'Median: {np.median(mat)}')\n",
    "print(f'Medium val: {mat.mean()}')"
   ]
  },
  {
   "cell_type": "markdown",
   "metadata": {},
   "source": [
    "19. Побудувати матрицю випадкових цілих чисел з проміжку [-100; 100]. Для отриманої матриці знайти\n",
    "а) кількість її додатних елементів;\n",
    "б) кількість її непарних елементів."
   ]
  },
  {
   "cell_type": "code",
   "execution_count": 19,
   "metadata": {},
   "outputs": [
    {
     "name": "stdout",
     "output_type": "stream",
     "text": [
      "[[-50 -57  53]\n",
      " [ 79 -86  10]\n",
      " [ 25 -10  33]]\n",
      "5 5\n"
     ]
    }
   ],
   "source": [
    "import numpy as np\n",
    "import random\n",
    "\n",
    "mat = np.zeros((3, 3), dtype=int)\n",
    "countPlus = 0\n",
    "countNotDiv2 = 0\n",
    "for i in range(3):\n",
    "    for j in range(3):\n",
    "        mat[i, j] = random.randint(-100, 100)\n",
    "        if mat[i, j] > 0:\n",
    "            countPlus += 1\n",
    "        if mat[i, j] % 2 == 1:\n",
    "            countNotDiv2 +=1\n",
    "print(mat)\n",
    "print(countPlus, countNotDiv2)"
   ]
  }
 ],
 "metadata": {
  "kernelspec": {
   "display_name": "Python 3",
   "language": "python",
   "name": "python3"
  },
  "language_info": {
   "codemirror_mode": {
    "name": "ipython",
    "version": 3
   },
   "file_extension": ".py",
   "mimetype": "text/x-python",
   "name": "python",
   "nbconvert_exporter": "python",
   "pygments_lexer": "ipython3",
   "version": "3.11.8"
  }
 },
 "nbformat": 4,
 "nbformat_minor": 2
}
